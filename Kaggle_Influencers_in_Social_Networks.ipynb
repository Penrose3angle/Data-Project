{
  "nbformat": 4,
  "nbformat_minor": 0,
  "metadata": {
    "colab": {
      "name": "Kaggle_Influencers in Social Networks.ipynb",
      "provenance": [],
      "authorship_tag": "ABX9TyPAakcrWIHRZp6O8ebBntMV",
      "include_colab_link": true
    },
    "kernelspec": {
      "name": "python3",
      "display_name": "Python 3"
    }
  },
  "cells": [
    {
      "cell_type": "markdown",
      "metadata": {
        "id": "view-in-github",
        "colab_type": "text"
      },
      "source": [
        "<a href=\"https://colab.research.google.com/github/Penrose3angle/Data-Project/blob/master/Kaggle_Influencers_in_Social_Networks.ipynb\" target=\"_parent\"><img src=\"https://colab.research.google.com/assets/colab-badge.svg\" alt=\"Open In Colab\"/></a>"
      ]
    },
    {
      "cell_type": "code",
      "metadata": {
        "id": "Xn7HsrnsFKc2",
        "colab_type": "code",
        "colab": {}
      },
      "source": [
        "# Start time: 29 May 2020 22.40\n",
        "# End time: "
      ],
      "execution_count": 0,
      "outputs": []
    },
    {
      "cell_type": "code",
      "metadata": {
        "id": "R9Q7u9wXF8Z9",
        "colab_type": "code",
        "outputId": "c4fec127-508a-4811-dbc2-a699b3fca8c3",
        "colab": {
          "resources": {
            "http://localhost:8080/nbextensions/google.colab/files.js": {
              "data": "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",
              "ok": true,
              "headers": [
                [
                  "content-type",
                  "application/javascript"
                ]
              ],
              "status": 200,
              "status_text": ""
            }
          },
          "base_uri": "https://localhost:8080/",
          "height": 40
        }
      },
      "source": [
        "from google.colab import files\n",
        "uploaded = files.upload()"
      ],
      "execution_count": 1,
      "outputs": [
        {
          "output_type": "display_data",
          "data": {
            "text/html": [
              "\n",
              "     <input type=\"file\" id=\"files-2cb8ff4d-69a4-4d01-a5e0-81aec68141a5\" name=\"files[]\" multiple disabled />\n",
              "     <output id=\"result-2cb8ff4d-69a4-4d01-a5e0-81aec68141a5\">\n",
              "      Upload widget is only available when the cell has been executed in the\n",
              "      current browser session. Please rerun this cell to enable.\n",
              "      </output>\n",
              "      <script src=\"/nbextensions/google.colab/files.js\"></script> "
            ],
            "text/plain": [
              "<IPython.core.display.HTML object>"
            ]
          },
          "metadata": {
            "tags": []
          }
        }
      ]
    },
    {
      "cell_type": "code",
      "metadata": {
        "id": "zeUOsHffFWSK",
        "colab_type": "code",
        "outputId": "bda13f3e-62f3-4483-d389-7f29feef241c",
        "colab": {
          "base_uri": "https://localhost:8080/",
          "height": 71
        }
      },
      "source": [
        "import pandas as pd\n",
        "import numpy as np\n",
        "import matplotlib.pyplot as plt\n",
        "import seaborn as sns\n",
        "from sklearn.metrics import auc\n",
        "train = pd.read_csv('train.csv')\n",
        "test = pd.read_csv('test.csv')\n",
        "submit = pd.read_csv('sample_predictions.csv')"
      ],
      "execution_count": 0,
      "outputs": [
        {
          "output_type": "stream",
          "text": [
            "/usr/local/lib/python3.6/dist-packages/statsmodels/tools/_testing.py:19: FutureWarning: pandas.util.testing is deprecated. Use the functions in the public API at pandas.testing instead.\n",
            "  import pandas.util.testing as tm\n"
          ],
          "name": "stderr"
        }
      ]
    },
    {
      "cell_type": "markdown",
      "metadata": {
        "id": "Bzlmsv6qJ8LW",
        "colab_type": "text"
      },
      "source": [
        "# Explore the data and the problem\n",
        "* Understand the data structure (sample size, features available, etc.)\n",
        "* Data visualisation may further help understanding."
      ]
    },
    {
      "cell_type": "code",
      "metadata": {
        "id": "BhiP7SEdG9PA",
        "colab_type": "code",
        "outputId": "0824e833-3dbf-4cd4-8279-994382ecacc0",
        "colab": {
          "base_uri": "https://localhost:8080/",
          "height": 51
        }
      },
      "source": [
        "print('Train size: ', train.shape[0])\n",
        "print('Test size: ', test.shape[0])\n",
        "print('Submission size: ', )"
      ],
      "execution_count": 0,
      "outputs": [
        {
          "output_type": "stream",
          "text": [
            "Train size:  5500\n",
            "Test size:  5952\n"
          ],
          "name": "stdout"
        }
      ]
    },
    {
      "cell_type": "code",
      "metadata": {
        "id": "Xam1QYkXGijB",
        "colab_type": "code",
        "outputId": "4e60ea99-fe58-4de7-a63c-67934435e4cb",
        "colab": {
          "base_uri": "https://localhost:8080/",
          "height": 226
        }
      },
      "source": [
        "# Explore the training set\n",
        "train.head()"
      ],
      "execution_count": 0,
      "outputs": [
        {
          "output_type": "execute_result",
          "data": {
            "text/html": [
              "<div>\n",
              "<style scoped>\n",
              "    .dataframe tbody tr th:only-of-type {\n",
              "        vertical-align: middle;\n",
              "    }\n",
              "\n",
              "    .dataframe tbody tr th {\n",
              "        vertical-align: top;\n",
              "    }\n",
              "\n",
              "    .dataframe thead th {\n",
              "        text-align: right;\n",
              "    }\n",
              "</style>\n",
              "<table border=\"1\" class=\"dataframe\">\n",
              "  <thead>\n",
              "    <tr style=\"text-align: right;\">\n",
              "      <th></th>\n",
              "      <th>Choice</th>\n",
              "      <th>A_follower_count</th>\n",
              "      <th>A_following_count</th>\n",
              "      <th>A_listed_count</th>\n",
              "      <th>A_mentions_received</th>\n",
              "      <th>A_retweets_received</th>\n",
              "      <th>A_mentions_sent</th>\n",
              "      <th>A_retweets_sent</th>\n",
              "      <th>A_posts</th>\n",
              "      <th>A_network_feature_1</th>\n",
              "      <th>A_network_feature_2</th>\n",
              "      <th>A_network_feature_3</th>\n",
              "      <th>B_follower_count</th>\n",
              "      <th>B_following_count</th>\n",
              "      <th>B_listed_count</th>\n",
              "      <th>B_mentions_received</th>\n",
              "      <th>B_retweets_received</th>\n",
              "      <th>B_mentions_sent</th>\n",
              "      <th>B_retweets_sent</th>\n",
              "      <th>B_posts</th>\n",
              "      <th>B_network_feature_1</th>\n",
              "      <th>B_network_feature_2</th>\n",
              "      <th>B_network_feature_3</th>\n",
              "    </tr>\n",
              "  </thead>\n",
              "  <tbody>\n",
              "    <tr>\n",
              "      <th>0</th>\n",
              "      <td>0</td>\n",
              "      <td>228</td>\n",
              "      <td>302</td>\n",
              "      <td>3</td>\n",
              "      <td>0.583979</td>\n",
              "      <td>0.100503</td>\n",
              "      <td>0.100503</td>\n",
              "      <td>0.100503</td>\n",
              "      <td>0.362150</td>\n",
              "      <td>2</td>\n",
              "      <td>166.500000</td>\n",
              "      <td>11355.000000</td>\n",
              "      <td>34463</td>\n",
              "      <td>29808</td>\n",
              "      <td>1689</td>\n",
              "      <td>15.430498</td>\n",
              "      <td>3.984029</td>\n",
              "      <td>8.204331</td>\n",
              "      <td>0.332423</td>\n",
              "      <td>6.988815</td>\n",
              "      <td>66</td>\n",
              "      <td>75.530303</td>\n",
              "      <td>1916.893939</td>\n",
              "    </tr>\n",
              "    <tr>\n",
              "      <th>1</th>\n",
              "      <td>0</td>\n",
              "      <td>21591</td>\n",
              "      <td>1179</td>\n",
              "      <td>228</td>\n",
              "      <td>90.456506</td>\n",
              "      <td>25.798292</td>\n",
              "      <td>5.709329</td>\n",
              "      <td>1.111159</td>\n",
              "      <td>5.176620</td>\n",
              "      <td>369</td>\n",
              "      <td>18.442971</td>\n",
              "      <td>1330.366048</td>\n",
              "      <td>39262</td>\n",
              "      <td>848</td>\n",
              "      <td>1610</td>\n",
              "      <td>40.495021</td>\n",
              "      <td>8.943607</td>\n",
              "      <td>3.227677</td>\n",
              "      <td>0.564343</td>\n",
              "      <td>1.070321</td>\n",
              "      <td>163</td>\n",
              "      <td>132.030675</td>\n",
              "      <td>2931.515337</td>\n",
              "    </tr>\n",
              "    <tr>\n",
              "      <th>2</th>\n",
              "      <td>0</td>\n",
              "      <td>7310</td>\n",
              "      <td>1215</td>\n",
              "      <td>101</td>\n",
              "      <td>25.503644</td>\n",
              "      <td>9.556347</td>\n",
              "      <td>5.361519</td>\n",
              "      <td>0.591206</td>\n",
              "      <td>3.589718</td>\n",
              "      <td>95</td>\n",
              "      <td>68.927835</td>\n",
              "      <td>5999.896907</td>\n",
              "      <td>3622</td>\n",
              "      <td>482</td>\n",
              "      <td>206</td>\n",
              "      <td>0.734696</td>\n",
              "      <td>0.354379</td>\n",
              "      <td>0.603202</td>\n",
              "      <td>0.100503</td>\n",
              "      <td>0.603202</td>\n",
              "      <td>3</td>\n",
              "      <td>10.333333</td>\n",
              "      <td>277.333333</td>\n",
              "    </tr>\n",
              "    <tr>\n",
              "      <th>3</th>\n",
              "      <td>0</td>\n",
              "      <td>20</td>\n",
              "      <td>7</td>\n",
              "      <td>2</td>\n",
              "      <td>7.690824</td>\n",
              "      <td>0.277306</td>\n",
              "      <td>1.331508</td>\n",
              "      <td>0.100503</td>\n",
              "      <td>2.830627</td>\n",
              "      <td>6</td>\n",
              "      <td>2.000000</td>\n",
              "      <td>96.166667</td>\n",
              "      <td>19562</td>\n",
              "      <td>17637</td>\n",
              "      <td>278</td>\n",
              "      <td>572.874856</td>\n",
              "      <td>390.293681</td>\n",
              "      <td>27.552040</td>\n",
              "      <td>7.167557</td>\n",
              "      <td>32.101906</td>\n",
              "      <td>1762</td>\n",
              "      <td>23.469296</td>\n",
              "      <td>1395.845634</td>\n",
              "    </tr>\n",
              "    <tr>\n",
              "      <th>4</th>\n",
              "      <td>1</td>\n",
              "      <td>45589</td>\n",
              "      <td>862</td>\n",
              "      <td>2641</td>\n",
              "      <td>148.854279</td>\n",
              "      <td>36.998884</td>\n",
              "      <td>27.881768</td>\n",
              "      <td>3.333492</td>\n",
              "      <td>23.861282</td>\n",
              "      <td>551</td>\n",
              "      <td>127.404293</td>\n",
              "      <td>2833.847943</td>\n",
              "      <td>7554</td>\n",
              "      <td>1711</td>\n",
              "      <td>181</td>\n",
              "      <td>21.601866</td>\n",
              "      <td>3.581661</td>\n",
              "      <td>6.764657</td>\n",
              "      <td>1.119727</td>\n",
              "      <td>4.563246</td>\n",
              "      <td>85</td>\n",
              "      <td>48.500000</td>\n",
              "      <td>1993.627907</td>\n",
              "    </tr>\n",
              "  </tbody>\n",
              "</table>\n",
              "</div>"
            ],
            "text/plain": [
              "   Choice  A_follower_count  ...  B_network_feature_2  B_network_feature_3\n",
              "0       0               228  ...            75.530303          1916.893939\n",
              "1       0             21591  ...           132.030675          2931.515337\n",
              "2       0              7310  ...            10.333333           277.333333\n",
              "3       0                20  ...            23.469296          1395.845634\n",
              "4       1             45589  ...            48.500000          1993.627907\n",
              "\n",
              "[5 rows x 23 columns]"
            ]
          },
          "metadata": {
            "tags": []
          },
          "execution_count": 3
        }
      ]
    },
    {
      "cell_type": "markdown",
      "metadata": {
        "id": "2IAxu5rkG0X7",
        "colab_type": "text"
      },
      "source": [
        "* We see from the training set that the features are A's and B's attributes, where most are recognizable twitter activities such as tweets/retweets, mentions, following, and some are masked network features. \n",
        "* Note that the attributes are symmetric between A and B.\n",
        "* *Each datapoint describes two individuals. Pre-computed, standardised features based on twitter activity (such as volume of interactions, number of followers, etc) is provided for each individual.* (Kaggle)\n",
        "* 'Choice' is our target variable here. This column is only in the train set.  "
      ]
    },
    {
      "cell_type": "code",
      "metadata": {
        "id": "yoq3z-E9He8z",
        "colab_type": "code",
        "outputId": "f8e1822a-97cd-4787-80d6-e66f1bb683d7",
        "colab": {
          "base_uri": "https://localhost:8080/",
          "height": 69
        }
      },
      "source": [
        "# Explore hte distribution of the target variable in the train set\n",
        "print(train['Choice'].value_counts())"
      ],
      "execution_count": 0,
      "outputs": [
        {
          "output_type": "stream",
          "text": [
            "1    2802\n",
            "0    2698\n",
            "Name: Choice, dtype: int64\n"
          ],
          "name": "stdout"
        }
      ]
    },
    {
      "cell_type": "markdown",
      "metadata": {
        "id": "7FRQYti-HpGu",
        "colab_type": "text"
      },
      "source": [
        "* The 'Choice' in our train set has only two unique values, 0 and 1, where 0 means that A is *more influential* than B, and 1 means otherwise. \n",
        "* Upon inspection, the numbers of data point with each value are quite balanced."
      ]
    },
    {
      "cell_type": "code",
      "metadata": {
        "id": "5tdiZdEfQw8g",
        "colab_type": "code",
        "outputId": "5a83ec92-612f-424a-8a3f-6b0502b31220",
        "colab": {
          "base_uri": "https://localhost:8080/",
          "height": 320
        }
      },
      "source": [
        "# Statistical description\n",
        "train.describe()"
      ],
      "execution_count": 0,
      "outputs": [
        {
          "output_type": "execute_result",
          "data": {
            "text/html": [
              "<div>\n",
              "<style scoped>\n",
              "    .dataframe tbody tr th:only-of-type {\n",
              "        vertical-align: middle;\n",
              "    }\n",
              "\n",
              "    .dataframe tbody tr th {\n",
              "        vertical-align: top;\n",
              "    }\n",
              "\n",
              "    .dataframe thead th {\n",
              "        text-align: right;\n",
              "    }\n",
              "</style>\n",
              "<table border=\"1\" class=\"dataframe\">\n",
              "  <thead>\n",
              "    <tr style=\"text-align: right;\">\n",
              "      <th></th>\n",
              "      <th>Choice</th>\n",
              "      <th>A_follower_count</th>\n",
              "      <th>A_following_count</th>\n",
              "      <th>A_listed_count</th>\n",
              "      <th>A_mentions_received</th>\n",
              "      <th>A_retweets_received</th>\n",
              "      <th>A_mentions_sent</th>\n",
              "      <th>A_retweets_sent</th>\n",
              "      <th>A_posts</th>\n",
              "      <th>A_network_feature_1</th>\n",
              "      <th>A_network_feature_2</th>\n",
              "      <th>A_network_feature_3</th>\n",
              "      <th>B_follower_count</th>\n",
              "      <th>B_following_count</th>\n",
              "      <th>B_listed_count</th>\n",
              "      <th>B_mentions_received</th>\n",
              "      <th>B_retweets_received</th>\n",
              "      <th>B_mentions_sent</th>\n",
              "      <th>B_retweets_sent</th>\n",
              "      <th>B_posts</th>\n",
              "      <th>B_network_feature_1</th>\n",
              "      <th>B_network_feature_2</th>\n",
              "      <th>B_network_feature_3</th>\n",
              "    </tr>\n",
              "  </thead>\n",
              "  <tbody>\n",
              "    <tr>\n",
              "      <th>count</th>\n",
              "      <td>5500.000000</td>\n",
              "      <td>5.500000e+03</td>\n",
              "      <td>5.500000e+03</td>\n",
              "      <td>5500.000000</td>\n",
              "      <td>5.500000e+03</td>\n",
              "      <td>5500.000000</td>\n",
              "      <td>5500.000000</td>\n",
              "      <td>5500.000000</td>\n",
              "      <td>5500.000000</td>\n",
              "      <td>5500.000000</td>\n",
              "      <td>5500.000000</td>\n",
              "      <td>5500.000000</td>\n",
              "      <td>5.500000e+03</td>\n",
              "      <td>5500.000000</td>\n",
              "      <td>5500.000000</td>\n",
              "      <td>5.500000e+03</td>\n",
              "      <td>5500.000000</td>\n",
              "      <td>5500.000000</td>\n",
              "      <td>5500.000000</td>\n",
              "      <td>5500.000000</td>\n",
              "      <td>5500.000000</td>\n",
              "      <td>5500.000000</td>\n",
              "      <td>5500.000000</td>\n",
              "    </tr>\n",
              "    <tr>\n",
              "      <th>mean</th>\n",
              "      <td>0.509455</td>\n",
              "      <td>6.498840e+05</td>\n",
              "      <td>1.265895e+04</td>\n",
              "      <td>5952.453273</td>\n",
              "      <td>2.666032e+03</td>\n",
              "      <td>1032.371839</td>\n",
              "      <td>6.011873</td>\n",
              "      <td>1.109924</td>\n",
              "      <td>9.090730</td>\n",
              "      <td>5267.768000</td>\n",
              "      <td>84.805209</td>\n",
              "      <td>3747.219758</td>\n",
              "      <td>6.854869e+05</td>\n",
              "      <td>12738.259818</td>\n",
              "      <td>5903.148364</td>\n",
              "      <td>2.554598e+03</td>\n",
              "      <td>997.149954</td>\n",
              "      <td>6.099658</td>\n",
              "      <td>1.106236</td>\n",
              "      <td>9.505821</td>\n",
              "      <td>5254.933636</td>\n",
              "      <td>85.024196</td>\n",
              "      <td>3745.175480</td>\n",
              "    </tr>\n",
              "    <tr>\n",
              "      <th>std</th>\n",
              "      <td>0.499956</td>\n",
              "      <td>2.028787e+06</td>\n",
              "      <td>4.900867e+04</td>\n",
              "      <td>17339.141191</td>\n",
              "      <td>2.916543e+04</td>\n",
              "      <td>10954.953223</td>\n",
              "      <td>9.519797</td>\n",
              "      <td>1.910104</td>\n",
              "      <td>18.311060</td>\n",
              "      <td>28946.777345</td>\n",
              "      <td>104.073204</td>\n",
              "      <td>5757.339852</td>\n",
              "      <td>2.160612e+06</td>\n",
              "      <td>50054.520874</td>\n",
              "      <td>16298.462018</td>\n",
              "      <td>2.508873e+04</td>\n",
              "      <td>9342.006880</td>\n",
              "      <td>9.729557</td>\n",
              "      <td>1.939914</td>\n",
              "      <td>19.424680</td>\n",
              "      <td>26778.820125</td>\n",
              "      <td>106.689384</td>\n",
              "      <td>5518.399590</td>\n",
              "    </tr>\n",
              "    <tr>\n",
              "      <th>min</th>\n",
              "      <td>0.000000</td>\n",
              "      <td>1.600000e+01</td>\n",
              "      <td>0.000000e+00</td>\n",
              "      <td>0.000000</td>\n",
              "      <td>1.005034e-01</td>\n",
              "      <td>0.100503</td>\n",
              "      <td>0.100503</td>\n",
              "      <td>0.100503</td>\n",
              "      <td>0.100503</td>\n",
              "      <td>0.000000</td>\n",
              "      <td>0.000000</td>\n",
              "      <td>0.000000</td>\n",
              "      <td>2.000000e+01</td>\n",
              "      <td>0.000000</td>\n",
              "      <td>0.000000</td>\n",
              "      <td>1.005034e-01</td>\n",
              "      <td>0.100503</td>\n",
              "      <td>0.100503</td>\n",
              "      <td>0.100503</td>\n",
              "      <td>0.100503</td>\n",
              "      <td>0.000000</td>\n",
              "      <td>0.000000</td>\n",
              "      <td>0.000000</td>\n",
              "    </tr>\n",
              "    <tr>\n",
              "      <th>25%</th>\n",
              "      <td>0.000000</td>\n",
              "      <td>2.663750e+03</td>\n",
              "      <td>3.220000e+02</td>\n",
              "      <td>85.000000</td>\n",
              "      <td>3.453649e+00</td>\n",
              "      <td>0.716816</td>\n",
              "      <td>0.359534</td>\n",
              "      <td>0.100503</td>\n",
              "      <td>0.632440</td>\n",
              "      <td>12.000000</td>\n",
              "      <td>14.991870</td>\n",
              "      <td>1180.805341</td>\n",
              "      <td>2.498250e+03</td>\n",
              "      <td>322.000000</td>\n",
              "      <td>75.000000</td>\n",
              "      <td>3.260473e+00</td>\n",
              "      <td>0.714556</td>\n",
              "      <td>0.356943</td>\n",
              "      <td>0.100503</td>\n",
              "      <td>0.822584</td>\n",
              "      <td>11.000000</td>\n",
              "      <td>15.176568</td>\n",
              "      <td>1206.500000</td>\n",
              "    </tr>\n",
              "    <tr>\n",
              "      <th>50%</th>\n",
              "      <td>1.000000</td>\n",
              "      <td>4.558900e+04</td>\n",
              "      <td>7.780000e+02</td>\n",
              "      <td>932.000000</td>\n",
              "      <td>4.876542e+01</td>\n",
              "      <td>14.029113</td>\n",
              "      <td>2.299666</td>\n",
              "      <td>0.341936</td>\n",
              "      <td>3.555194</td>\n",
              "      <td>195.000000</td>\n",
              "      <td>54.925234</td>\n",
              "      <td>2206.420734</td>\n",
              "      <td>4.402700e+04</td>\n",
              "      <td>773.000000</td>\n",
              "      <td>890.000000</td>\n",
              "      <td>4.876542e+01</td>\n",
              "      <td>14.029113</td>\n",
              "      <td>2.251398</td>\n",
              "      <td>0.341936</td>\n",
              "      <td>3.342999</td>\n",
              "      <td>190.000000</td>\n",
              "      <td>54.925234</td>\n",
              "      <td>2206.420734</td>\n",
              "    </tr>\n",
              "    <tr>\n",
              "      <th>75%</th>\n",
              "      <td>1.000000</td>\n",
              "      <td>3.927380e+05</td>\n",
              "      <td>2.838000e+03</td>\n",
              "      <td>6734.000000</td>\n",
              "      <td>3.498196e+02</td>\n",
              "      <td>118.704407</td>\n",
              "      <td>7.198330</td>\n",
              "      <td>1.320681</td>\n",
              "      <td>10.691878</td>\n",
              "      <td>1323.000000</td>\n",
              "      <td>109.695652</td>\n",
              "      <td>4390.379310</td>\n",
              "      <td>3.701142e+05</td>\n",
              "      <td>2838.000000</td>\n",
              "      <td>6734.000000</td>\n",
              "      <td>3.743699e+02</td>\n",
              "      <td>107.081021</td>\n",
              "      <td>6.866840</td>\n",
              "      <td>1.320681</td>\n",
              "      <td>10.600502</td>\n",
              "      <td>1323.000000</td>\n",
              "      <td>112.191489</td>\n",
              "      <td>4349.908608</td>\n",
              "    </tr>\n",
              "    <tr>\n",
              "      <th>max</th>\n",
              "      <td>1.000000</td>\n",
              "      <td>3.654319e+07</td>\n",
              "      <td>1.165830e+06</td>\n",
              "      <td>549144.000000</td>\n",
              "      <td>1.145219e+06</td>\n",
              "      <td>435825.874241</td>\n",
              "      <td>76.809514</td>\n",
              "      <td>16.290540</td>\n",
              "      <td>193.072418</td>\n",
              "      <td>920838.000000</td>\n",
              "      <td>1121.000000</td>\n",
              "      <td>144651.461538</td>\n",
              "      <td>3.654319e+07</td>\n",
              "      <td>664324.000000</td>\n",
              "      <td>549144.000000</td>\n",
              "      <td>1.145219e+06</td>\n",
              "      <td>435825.874241</td>\n",
              "      <td>76.809514</td>\n",
              "      <td>16.290540</td>\n",
              "      <td>193.072418</td>\n",
              "      <td>920838.000000</td>\n",
              "      <td>1861.583333</td>\n",
              "      <td>75526.083333</td>\n",
              "    </tr>\n",
              "  </tbody>\n",
              "</table>\n",
              "</div>"
            ],
            "text/plain": [
              "            Choice  A_follower_count  ...  B_network_feature_2  B_network_feature_3\n",
              "count  5500.000000      5.500000e+03  ...          5500.000000          5500.000000\n",
              "mean      0.509455      6.498840e+05  ...            85.024196          3745.175480\n",
              "std       0.499956      2.028787e+06  ...           106.689384          5518.399590\n",
              "min       0.000000      1.600000e+01  ...             0.000000             0.000000\n",
              "25%       0.000000      2.663750e+03  ...            15.176568          1206.500000\n",
              "50%       1.000000      4.558900e+04  ...            54.925234          2206.420734\n",
              "75%       1.000000      3.927380e+05  ...           112.191489          4349.908608\n",
              "max       1.000000      3.654319e+07  ...          1861.583333         75526.083333\n",
              "\n",
              "[8 rows x 23 columns]"
            ]
          },
          "metadata": {
            "tags": []
          },
          "execution_count": 52
        }
      ]
    },
    {
      "cell_type": "code",
      "metadata": {
        "id": "7jbYzvhCRAAD",
        "colab_type": "code",
        "outputId": "e30959eb-2e55-491b-a952-b94da2a76394",
        "colab": {
          "base_uri": "https://localhost:8080/",
          "height": 320
        }
      },
      "source": [
        "test.describe()"
      ],
      "execution_count": 0,
      "outputs": [
        {
          "output_type": "execute_result",
          "data": {
            "text/html": [
              "<div>\n",
              "<style scoped>\n",
              "    .dataframe tbody tr th:only-of-type {\n",
              "        vertical-align: middle;\n",
              "    }\n",
              "\n",
              "    .dataframe tbody tr th {\n",
              "        vertical-align: top;\n",
              "    }\n",
              "\n",
              "    .dataframe thead th {\n",
              "        text-align: right;\n",
              "    }\n",
              "</style>\n",
              "<table border=\"1\" class=\"dataframe\">\n",
              "  <thead>\n",
              "    <tr style=\"text-align: right;\">\n",
              "      <th></th>\n",
              "      <th>A_follower_count</th>\n",
              "      <th>A_following_count</th>\n",
              "      <th>A_listed_count</th>\n",
              "      <th>A_mentions_received</th>\n",
              "      <th>A_retweets_received</th>\n",
              "      <th>A_mentions_sent</th>\n",
              "      <th>A_retweets_sent</th>\n",
              "      <th>A_posts</th>\n",
              "      <th>A_network_feature_1</th>\n",
              "      <th>A_network_feature_2</th>\n",
              "      <th>A_network_feature_3</th>\n",
              "      <th>B_follower_count</th>\n",
              "      <th>B_following_count</th>\n",
              "      <th>B_listed_count</th>\n",
              "      <th>B_mentions_received</th>\n",
              "      <th>B_retweets_received</th>\n",
              "      <th>B_mentions_sent</th>\n",
              "      <th>B_retweets_sent</th>\n",
              "      <th>B_posts</th>\n",
              "      <th>B_network_feature_1</th>\n",
              "      <th>B_network_feature_2</th>\n",
              "      <th>B_network_feature_3</th>\n",
              "    </tr>\n",
              "  </thead>\n",
              "  <tbody>\n",
              "    <tr>\n",
              "      <th>count</th>\n",
              "      <td>5.952000e+03</td>\n",
              "      <td>5952.000000</td>\n",
              "      <td>5952.000000</td>\n",
              "      <td>5.952000e+03</td>\n",
              "      <td>5952.000000</td>\n",
              "      <td>5952.000000</td>\n",
              "      <td>5952.000000</td>\n",
              "      <td>5952.000000</td>\n",
              "      <td>5952.000000</td>\n",
              "      <td>5952.000000</td>\n",
              "      <td>5952.000000</td>\n",
              "      <td>5.952000e+03</td>\n",
              "      <td>5952.000000</td>\n",
              "      <td>5952.000000</td>\n",
              "      <td>5.952000e+03</td>\n",
              "      <td>5952.000000</td>\n",
              "      <td>5952.000000</td>\n",
              "      <td>5952.000000</td>\n",
              "      <td>5952.000000</td>\n",
              "      <td>5952.000000</td>\n",
              "      <td>5952.000000</td>\n",
              "      <td>5952.000000</td>\n",
              "    </tr>\n",
              "    <tr>\n",
              "      <th>mean</th>\n",
              "      <td>7.087657e+05</td>\n",
              "      <td>15816.745128</td>\n",
              "      <td>6230.993952</td>\n",
              "      <td>2.610369e+03</td>\n",
              "      <td>999.216821</td>\n",
              "      <td>6.376236</td>\n",
              "      <td>1.138599</td>\n",
              "      <td>9.665749</td>\n",
              "      <td>5170.248488</td>\n",
              "      <td>84.492860</td>\n",
              "      <td>4223.096325</td>\n",
              "      <td>7.149865e+05</td>\n",
              "      <td>14841.442372</td>\n",
              "      <td>6117.086190</td>\n",
              "      <td>2.606966e+03</td>\n",
              "      <td>1010.544365</td>\n",
              "      <td>6.199827</td>\n",
              "      <td>1.156266</td>\n",
              "      <td>9.016867</td>\n",
              "      <td>5384.529906</td>\n",
              "      <td>88.190013</td>\n",
              "      <td>4104.448241</td>\n",
              "    </tr>\n",
              "    <tr>\n",
              "      <th>std</th>\n",
              "      <td>2.085302e+06</td>\n",
              "      <td>57157.375055</td>\n",
              "      <td>17367.157429</td>\n",
              "      <td>2.825216e+04</td>\n",
              "      <td>10585.986980</td>\n",
              "      <td>10.699849</td>\n",
              "      <td>1.999076</td>\n",
              "      <td>19.999954</td>\n",
              "      <td>28305.471154</td>\n",
              "      <td>98.005953</td>\n",
              "      <td>7385.943025</td>\n",
              "      <td>2.121816e+06</td>\n",
              "      <td>56158.272513</td>\n",
              "      <td>16341.230784</td>\n",
              "      <td>2.462033e+04</td>\n",
              "      <td>9170.174893</td>\n",
              "      <td>10.320966</td>\n",
              "      <td>1.978121</td>\n",
              "      <td>17.658846</td>\n",
              "      <td>27497.488106</td>\n",
              "      <td>145.716530</td>\n",
              "      <td>8042.921162</td>\n",
              "    </tr>\n",
              "    <tr>\n",
              "      <th>min</th>\n",
              "      <td>2.000000e+01</td>\n",
              "      <td>0.000000</td>\n",
              "      <td>0.000000</td>\n",
              "      <td>1.005034e-01</td>\n",
              "      <td>0.100503</td>\n",
              "      <td>0.100503</td>\n",
              "      <td>0.100503</td>\n",
              "      <td>0.100503</td>\n",
              "      <td>0.000000</td>\n",
              "      <td>0.000000</td>\n",
              "      <td>0.000000</td>\n",
              "      <td>1.600000e+01</td>\n",
              "      <td>0.000000</td>\n",
              "      <td>0.000000</td>\n",
              "      <td>1.005034e-01</td>\n",
              "      <td>0.100503</td>\n",
              "      <td>0.100503</td>\n",
              "      <td>0.100503</td>\n",
              "      <td>0.100503</td>\n",
              "      <td>0.000000</td>\n",
              "      <td>0.000000</td>\n",
              "      <td>0.000000</td>\n",
              "    </tr>\n",
              "    <tr>\n",
              "      <th>25%</th>\n",
              "      <td>3.741000e+03</td>\n",
              "      <td>337.000000</td>\n",
              "      <td>103.000000</td>\n",
              "      <td>4.124998e+00</td>\n",
              "      <td>0.933434</td>\n",
              "      <td>0.362150</td>\n",
              "      <td>0.100503</td>\n",
              "      <td>0.867285</td>\n",
              "      <td>15.000000</td>\n",
              "      <td>17.914359</td>\n",
              "      <td>1230.512781</td>\n",
              "      <td>3.638000e+03</td>\n",
              "      <td>331.000000</td>\n",
              "      <td>103.000000</td>\n",
              "      <td>4.237052e+00</td>\n",
              "      <td>0.932458</td>\n",
              "      <td>0.362150</td>\n",
              "      <td>0.100503</td>\n",
              "      <td>0.847662</td>\n",
              "      <td>15.000000</td>\n",
              "      <td>17.731521</td>\n",
              "      <td>1230.512781</td>\n",
              "    </tr>\n",
              "    <tr>\n",
              "      <th>50%</th>\n",
              "      <td>5.445300e+04</td>\n",
              "      <td>904.000000</td>\n",
              "      <td>1062.000000</td>\n",
              "      <td>5.513727e+01</td>\n",
              "      <td>14.161040</td>\n",
              "      <td>2.299666</td>\n",
              "      <td>0.349327</td>\n",
              "      <td>3.398350</td>\n",
              "      <td>206.000000</td>\n",
              "      <td>55.483333</td>\n",
              "      <td>2352.647334</td>\n",
              "      <td>4.402700e+04</td>\n",
              "      <td>900.000000</td>\n",
              "      <td>930.500000</td>\n",
              "      <td>4.807372e+01</td>\n",
              "      <td>13.194818</td>\n",
              "      <td>2.324112</td>\n",
              "      <td>0.354379</td>\n",
              "      <td>3.342999</td>\n",
              "      <td>188.000000</td>\n",
              "      <td>57.888000</td>\n",
              "      <td>2381.466667</td>\n",
              "    </tr>\n",
              "    <tr>\n",
              "      <th>75%</th>\n",
              "      <td>4.885530e+05</td>\n",
              "      <td>3256.000000</td>\n",
              "      <td>6820.000000</td>\n",
              "      <td>3.882108e+02</td>\n",
              "      <td>128.707883</td>\n",
              "      <td>6.849227</td>\n",
              "      <td>1.320681</td>\n",
              "      <td>10.746838</td>\n",
              "      <td>1637.000000</td>\n",
              "      <td>117.098039</td>\n",
              "      <td>4592.000000</td>\n",
              "      <td>4.709260e+05</td>\n",
              "      <td>3115.000000</td>\n",
              "      <td>6734.000000</td>\n",
              "      <td>3.743699e+02</td>\n",
              "      <td>106.676389</td>\n",
              "      <td>6.825165</td>\n",
              "      <td>1.337915</td>\n",
              "      <td>10.691878</td>\n",
              "      <td>1323.000000</td>\n",
              "      <td>120.195059</td>\n",
              "      <td>4544.541667</td>\n",
              "    </tr>\n",
              "    <tr>\n",
              "      <th>max</th>\n",
              "      <td>3.654319e+07</td>\n",
              "      <td>550744.000000</td>\n",
              "      <td>549144.000000</td>\n",
              "      <td>1.145219e+06</td>\n",
              "      <td>435825.874241</td>\n",
              "      <td>96.678732</td>\n",
              "      <td>26.873251</td>\n",
              "      <td>193.072418</td>\n",
              "      <td>920838.000000</td>\n",
              "      <td>1171.333333</td>\n",
              "      <td>254193.714286</td>\n",
              "      <td>3.654319e+07</td>\n",
              "      <td>664324.000000</td>\n",
              "      <td>549144.000000</td>\n",
              "      <td>1.145219e+06</td>\n",
              "      <td>435825.874241</td>\n",
              "      <td>96.678732</td>\n",
              "      <td>26.873251</td>\n",
              "      <td>193.072418</td>\n",
              "      <td>920838.000000</td>\n",
              "      <td>8111.750000</td>\n",
              "      <td>464349.250000</td>\n",
              "    </tr>\n",
              "  </tbody>\n",
              "</table>\n",
              "</div>"
            ],
            "text/plain": [
              "       A_follower_count  ...  B_network_feature_3\n",
              "count      5.952000e+03  ...          5952.000000\n",
              "mean       7.087657e+05  ...          4104.448241\n",
              "std        2.085302e+06  ...          8042.921162\n",
              "min        2.000000e+01  ...             0.000000\n",
              "25%        3.741000e+03  ...          1230.512781\n",
              "50%        5.445300e+04  ...          2381.466667\n",
              "75%        4.885530e+05  ...          4544.541667\n",
              "max        3.654319e+07  ...        464349.250000\n",
              "\n",
              "[8 rows x 22 columns]"
            ]
          },
          "metadata": {
            "tags": []
          },
          "execution_count": 53
        }
      ]
    },
    {
      "cell_type": "code",
      "metadata": {
        "id": "VKvuyELoGnXW",
        "colab_type": "code",
        "outputId": "5aebb601-3581-4b1e-910a-d72d0b177a29",
        "colab": {
          "base_uri": "https://localhost:8080/",
          "height": 206
        }
      },
      "source": [
        "# Explore what the submission file should look like\n",
        "submit.head()"
      ],
      "execution_count": 0,
      "outputs": [
        {
          "output_type": "execute_result",
          "data": {
            "text/html": [
              "<div>\n",
              "<style scoped>\n",
              "    .dataframe tbody tr th:only-of-type {\n",
              "        vertical-align: middle;\n",
              "    }\n",
              "\n",
              "    .dataframe tbody tr th {\n",
              "        vertical-align: top;\n",
              "    }\n",
              "\n",
              "    .dataframe thead th {\n",
              "        text-align: right;\n",
              "    }\n",
              "</style>\n",
              "<table border=\"1\" class=\"dataframe\">\n",
              "  <thead>\n",
              "    <tr style=\"text-align: right;\">\n",
              "      <th></th>\n",
              "      <th>Id</th>\n",
              "      <th>Choice</th>\n",
              "    </tr>\n",
              "  </thead>\n",
              "  <tbody>\n",
              "    <tr>\n",
              "      <th>0</th>\n",
              "      <td>1</td>\n",
              "      <td>0.315025</td>\n",
              "    </tr>\n",
              "    <tr>\n",
              "      <th>1</th>\n",
              "      <td>2</td>\n",
              "      <td>0.474330</td>\n",
              "    </tr>\n",
              "    <tr>\n",
              "      <th>2</th>\n",
              "      <td>3</td>\n",
              "      <td>0.098802</td>\n",
              "    </tr>\n",
              "    <tr>\n",
              "      <th>3</th>\n",
              "      <td>4</td>\n",
              "      <td>0.137932</td>\n",
              "    </tr>\n",
              "    <tr>\n",
              "      <th>4</th>\n",
              "      <td>5</td>\n",
              "      <td>0.523677</td>\n",
              "    </tr>\n",
              "  </tbody>\n",
              "</table>\n",
              "</div>"
            ],
            "text/plain": [
              "   Id    Choice\n",
              "0   1  0.315025\n",
              "1   2  0.474330\n",
              "2   3  0.098802\n",
              "3   4  0.137932\n",
              "4   5  0.523677"
            ]
          },
          "metadata": {
            "tags": []
          },
          "execution_count": 4
        }
      ]
    },
    {
      "cell_type": "markdown",
      "metadata": {
        "id": "jXltJQjsH8x7",
        "colab_type": "text"
      },
      "source": [
        "* So the submission file only want two columns, 'Id' and 'Choice', where the predicted 'Choice' can be any value in [0,1]."
      ]
    },
    {
      "cell_type": "code",
      "metadata": {
        "id": "muu7oxNfK-r_",
        "colab_type": "code",
        "outputId": "0b9b757a-6810-442e-80ca-956dbbe3ec8c",
        "colab": {
          "base_uri": "https://localhost:8080/",
          "height": 226
        }
      },
      "source": [
        "# Visualisation\n",
        "train_a = train.iloc[:, 1:12]\n",
        "train_b = train.iloc[:,12:]\n",
        "train_b.columns = train_a.columns\n",
        "decouple = pd.concat([train_a, train_b],axis=0)\n",
        "decouple.head()"
      ],
      "execution_count": 0,
      "outputs": [
        {
          "output_type": "execute_result",
          "data": {
            "text/html": [
              "<div>\n",
              "<style scoped>\n",
              "    .dataframe tbody tr th:only-of-type {\n",
              "        vertical-align: middle;\n",
              "    }\n",
              "\n",
              "    .dataframe tbody tr th {\n",
              "        vertical-align: top;\n",
              "    }\n",
              "\n",
              "    .dataframe thead th {\n",
              "        text-align: right;\n",
              "    }\n",
              "</style>\n",
              "<table border=\"1\" class=\"dataframe\">\n",
              "  <thead>\n",
              "    <tr style=\"text-align: right;\">\n",
              "      <th></th>\n",
              "      <th>A_follower_count</th>\n",
              "      <th>A_following_count</th>\n",
              "      <th>A_listed_count</th>\n",
              "      <th>A_mentions_received</th>\n",
              "      <th>A_retweets_received</th>\n",
              "      <th>A_mentions_sent</th>\n",
              "      <th>A_retweets_sent</th>\n",
              "      <th>A_posts</th>\n",
              "      <th>A_network_feature_1</th>\n",
              "      <th>A_network_feature_2</th>\n",
              "      <th>A_network_feature_3</th>\n",
              "    </tr>\n",
              "  </thead>\n",
              "  <tbody>\n",
              "    <tr>\n",
              "      <th>0</th>\n",
              "      <td>228</td>\n",
              "      <td>302</td>\n",
              "      <td>3</td>\n",
              "      <td>0.583979</td>\n",
              "      <td>0.100503</td>\n",
              "      <td>0.100503</td>\n",
              "      <td>0.100503</td>\n",
              "      <td>0.362150</td>\n",
              "      <td>2</td>\n",
              "      <td>166.500000</td>\n",
              "      <td>11355.000000</td>\n",
              "    </tr>\n",
              "    <tr>\n",
              "      <th>1</th>\n",
              "      <td>21591</td>\n",
              "      <td>1179</td>\n",
              "      <td>228</td>\n",
              "      <td>90.456506</td>\n",
              "      <td>25.798292</td>\n",
              "      <td>5.709329</td>\n",
              "      <td>1.111159</td>\n",
              "      <td>5.176620</td>\n",
              "      <td>369</td>\n",
              "      <td>18.442971</td>\n",
              "      <td>1330.366048</td>\n",
              "    </tr>\n",
              "    <tr>\n",
              "      <th>2</th>\n",
              "      <td>7310</td>\n",
              "      <td>1215</td>\n",
              "      <td>101</td>\n",
              "      <td>25.503644</td>\n",
              "      <td>9.556347</td>\n",
              "      <td>5.361519</td>\n",
              "      <td>0.591206</td>\n",
              "      <td>3.589718</td>\n",
              "      <td>95</td>\n",
              "      <td>68.927835</td>\n",
              "      <td>5999.896907</td>\n",
              "    </tr>\n",
              "    <tr>\n",
              "      <th>3</th>\n",
              "      <td>20</td>\n",
              "      <td>7</td>\n",
              "      <td>2</td>\n",
              "      <td>7.690824</td>\n",
              "      <td>0.277306</td>\n",
              "      <td>1.331508</td>\n",
              "      <td>0.100503</td>\n",
              "      <td>2.830627</td>\n",
              "      <td>6</td>\n",
              "      <td>2.000000</td>\n",
              "      <td>96.166667</td>\n",
              "    </tr>\n",
              "    <tr>\n",
              "      <th>4</th>\n",
              "      <td>45589</td>\n",
              "      <td>862</td>\n",
              "      <td>2641</td>\n",
              "      <td>148.854279</td>\n",
              "      <td>36.998884</td>\n",
              "      <td>27.881768</td>\n",
              "      <td>3.333492</td>\n",
              "      <td>23.861282</td>\n",
              "      <td>551</td>\n",
              "      <td>127.404293</td>\n",
              "      <td>2833.847943</td>\n",
              "    </tr>\n",
              "  </tbody>\n",
              "</table>\n",
              "</div>"
            ],
            "text/plain": [
              "   A_follower_count  ...  A_network_feature_3\n",
              "0               228  ...         11355.000000\n",
              "1             21591  ...          1330.366048\n",
              "2              7310  ...          5999.896907\n",
              "3                20  ...            96.166667\n",
              "4             45589  ...          2833.847943\n",
              "\n",
              "[5 rows x 11 columns]"
            ]
          },
          "metadata": {
            "tags": []
          },
          "execution_count": 73
        }
      ]
    },
    {
      "cell_type": "code",
      "metadata": {
        "id": "zGBB3JKSSD16",
        "colab_type": "code",
        "outputId": "d232f8a3-56e2-434b-e5dc-778f00c689fd",
        "colab": {
          "base_uri": "https://localhost:8080/",
          "height": 351
        }
      },
      "source": [
        "sns.set(rc={'figure.figsize':(5,5)})\n",
        "#sns.boxplot(y='A_follower_count', data=decouple)\n",
        "inv = 'A_follower_count'\n",
        "decouple[inv].hist(bins=100)\n",
        "plt.title(inv)\n",
        "plt.show()"
      ],
      "execution_count": 0,
      "outputs": [
        {
          "output_type": "display_data",
          "data": {
            "image/png": "[encoded data removed]",
            "text/plain": [
              "<Figure size 360x360 with 1 Axes>"
            ]
          },
          "metadata": {
            "tags": []
          }
        }
      ]
    },
    {
      "cell_type": "code",
      "metadata": {
        "id": "KCEirLO4Tc_9",
        "colab_type": "code",
        "outputId": "7732ed54-bdfe-4af7-ef48-32b3efec9502",
        "colab": {
          "base_uri": "https://localhost:8080/",
          "height": 652
        }
      },
      "source": [
        "# Exploring correlation amongst features\n",
        "sns.set(rc={'figure.figsize':(9,9)})\n",
        "nw_feat = decouple[['A_network_feature_1',\t'A_network_feature_2',\t'A_network_feature_3']]\n",
        "corr = decouple.corr()\n",
        "#sns.pairplot(nw_feat)\n",
        "sns.heatmap(corr, annot=True)\n",
        "plt.show()"
      ],
      "execution_count": 0,
      "outputs": [
        {
          "output_type": "display_data",
          "data": {
            "image/png": "[encoded data removed]",
            "text/plain": [
              "<Figure size 648x648 with 2 Axes>"
            ]
          },
          "metadata": {
            "tags": []
          }
        }
      ]
    },
    {
      "cell_type": "markdown",
      "metadata": {
        "id": "GCN76h4UVdk3",
        "colab_type": "text"
      },
      "source": [
        "* **'mentions_received', 'retweets_received', and 'network_feature_1'** are strongly correlated. It would be better to choose just one of these features, otherwise the model performance will suffer from multicolinearity. "
      ]
    },
    {
      "cell_type": "markdown",
      "metadata": {
        "id": "ktmb-66rJ3mK",
        "colab_type": "text"
      },
      "source": [
        "# Preprocessing"
      ]
    },
    {
      "cell_type": "code",
      "metadata": {
        "id": "b4sxWNR3H8f_",
        "colab_type": "code",
        "outputId": "4f7f5932-35bf-4370-9908-99b38525aa5e",
        "colab": {
          "base_uri": "https://localhost:8080/",
          "height": 51
        }
      },
      "source": [
        "# Check for missing values\n",
        "print(train.isnull().sum().sum())\n",
        "print(test.isnull().sum().sum())"
      ],
      "execution_count": 0,
      "outputs": [
        {
          "output_type": "stream",
          "text": [
            "0\n",
            "0\n"
          ],
          "name": "stdout"
        }
      ]
    },
    {
      "cell_type": "markdown",
      "metadata": {
        "id": "vDjdY2BpJKoR",
        "colab_type": "text"
      },
      "source": [
        "* Fortunately, we do not have any missing values in both sets. \n",
        "* (Otherwise, we would need to think about how to deal with the missing values, lest some of the algorithms, e.g. linear regression, would not be able to work. Most simple ways are dropping the data point with missing values or impute the missing values. Which method is the best depends on context.)\n",
        "* Outliers are expected and meaninful in this context. The social network is likely an 'Erdos-Renyi' network, i.e., only a few nodes with extremely high degree (followers), but most nodes have low degree. So, we keep the ourliers as they are. "
      ]
    },
    {
      "cell_type": "markdown",
      "metadata": {
        "id": "Q_DQQASDLlPe",
        "colab_type": "text"
      },
      "source": [
        "# Quick Benchmarking\n",
        "* Use AUC of ROC as the metric\n",
        "* Original features\n",
        "* Simple model\n",
        "* Show the score of both the train and the dev set to help prioritise what to try next. "
      ]
    },
    {
      "cell_type": "code",
      "metadata": {
        "id": "kHrvomMWGNy0",
        "colab_type": "code",
        "colab": {}
      },
      "source": [
        "# Evaluation function from Kaggle Page - Area under curve of the ROC\n",
        "# The higher the better.\n",
        "from sklearn.metrics import roc_curve, auc\n",
        "def scoring(true_labels, predictions):\n",
        "  fpr, tpr, thresholds = roc_curve(true_labels, predictions, pos_label=1)\n",
        "  auc_score = auc(fpr,tpr)\n",
        "  print('AUC: ', round(auc_score,3))\n",
        "  return"
      ],
      "execution_count": 0,
      "outputs": []
    },
    {
      "cell_type": "code",
      "metadata": {
        "id": "dVTTZdr2L7au",
        "colab_type": "code",
        "colab": {}
      },
      "source": [
        "# Separate the target from the features\n",
        "X = train.drop('Choice', axis=1)\n",
        "y = train['Choice']"
      ],
      "execution_count": 0,
      "outputs": []
    },
    {
      "cell_type": "code",
      "metadata": {
        "id": "L8TFmNjRLufp",
        "colab_type": "code",
        "colab": {}
      },
      "source": [
        "# Split train and dev sets\n",
        "from sklearn.model_selection import train_test_split\n",
        "X_train, X_dev, y_train, y_dev = train_test_split(X,y, test_size=0.2, random_state=42)"
      ],
      "execution_count": 0,
      "outputs": []
    },
    {
      "cell_type": "code",
      "metadata": {
        "id": "ZK0vdPRrMSzO",
        "colab_type": "code",
        "outputId": "6d570605-4e41-430c-f336-7d327121c901",
        "colab": {
          "base_uri": "https://localhost:8080/",
          "height": 485
        }
      },
      "source": [
        "# Start with the simplest models - the performance can be used as benchmarks\n",
        "from sklearn.linear_model import LinearRegression\n",
        "lr = LinearRegression()\n",
        "lr.fit(X_train,y_train)\n",
        "y_hat = lr.predict(X_train)\n",
        "y_pred = lr.predict(X_dev)\n",
        "print('AUC Score from Train set: ')\n",
        "scoring(y_train, y_hat)\n",
        "print('AUC Score from Dev set: ')\n",
        "scoring(y_dev,y_pred)\n",
        "\n",
        "feat_imp = pd.DataFrame({'Features': X_train.columns, 'importance': lr.coef_})\n",
        "feat_imp.sort_values('importance',inplace=True)\n",
        "print(feat_imp)\n",
        "# Too much biases - low score on both the train set and the dev set. "
      ],
      "execution_count": 0,
      "outputs": [
        {
          "output_type": "stream",
          "text": [
            "AUC Score from Train set: \n",
            "AUC:  0.786\n",
            "AUC Score from Dev set: \n",
            "AUC:  0.774\n",
            "               Features    importance\n",
            "17      B_retweets_sent -2.169624e-02\n",
            "16      B_mentions_sent -3.795511e-03\n",
            "20  B_network_feature_2 -1.204857e-04\n",
            "4   A_retweets_received -1.667207e-05\n",
            "13       B_listed_count -1.320916e-05\n",
            "19  B_network_feature_1 -7.754733e-06\n",
            "21  B_network_feature_3 -6.580883e-06\n",
            "3   A_mentions_received -2.427592e-06\n",
            "12    B_following_count -6.841089e-08\n",
            "0      A_follower_count -2.435405e-08\n",
            "11     B_follower_count  3.639585e-08\n",
            "1     A_following_count  4.287603e-07\n",
            "14  B_mentions_received  1.654577e-06\n",
            "10  A_network_feature_3  4.347859e-06\n",
            "8   A_network_feature_1  6.269648e-06\n",
            "2        A_listed_count  1.167129e-05\n",
            "15  B_retweets_received  2.318101e-05\n",
            "18              B_posts  1.861388e-04\n",
            "9   A_network_feature_2  3.289335e-04\n",
            "7               A_posts  8.031870e-04\n",
            "5       A_mentions_sent  1.954103e-03\n",
            "6       A_retweets_sent  1.729889e-02\n"
          ],
          "name": "stdout"
        }
      ]
    },
    {
      "cell_type": "code",
      "metadata": {
        "id": "iLG3s_dDPqG6",
        "colab_type": "code",
        "outputId": "73a04c52-ccfb-47c0-ac95-93276845fcb0",
        "colab": {
          "base_uri": "https://localhost:8080/",
          "height": 485
        }
      },
      "source": [
        "from sklearn.ensemble import RandomForestRegressor\n",
        "rf = RandomForestRegressor(n_estimators=50,max_depth=7,max_features=5)\n",
        "rf.fit(X_train,y_train)\n",
        "y_hat = rf.predict(X_train)\n",
        "y_pred = rf.predict(X_dev)\n",
        "print('AUC Score from Train set: ')\n",
        "scoring(y_train, y_hat)\n",
        "print('AUC Score from Dev set: ')\n",
        "scoring(y_dev,y_pred)\n",
        "\n",
        "feat_imp = pd.DataFrame({'Features': X_train.columns, 'importance': rf.feature_importances_})\n",
        "feat_imp.sort_values('importance', ascending=False, inplace=True)\n",
        "print(feat_imp)\n",
        "# Too much variances - Wayyyyyy overfit the train set\n",
        "# The score is good though. "
      ],
      "execution_count": 0,
      "outputs": [
        {
          "output_type": "stream",
          "text": [
            "AUC Score from Train set: \n",
            "AUC:  0.929\n",
            "AUC Score from Dev set: \n",
            "AUC:  0.869\n",
            "               Features  importance\n",
            "8   A_network_feature_1    0.123574\n",
            "0      A_follower_count    0.111249\n",
            "13       B_listed_count    0.104920\n",
            "2        A_listed_count    0.102762\n",
            "19  B_network_feature_1    0.083665\n",
            "14  B_mentions_received    0.080416\n",
            "15  B_retweets_received    0.065265\n",
            "11     B_follower_count    0.060360\n",
            "3   A_mentions_received    0.045067\n",
            "4   A_retweets_received    0.032967\n",
            "18              B_posts    0.021916\n",
            "10  A_network_feature_3    0.021902\n",
            "20  B_network_feature_2    0.019255\n",
            "21  B_network_feature_3    0.018817\n",
            "9   A_network_feature_2    0.017640\n",
            "12    B_following_count    0.015901\n",
            "7               A_posts    0.014955\n",
            "16      B_mentions_sent    0.014865\n",
            "1     A_following_count    0.014764\n",
            "17      B_retweets_sent    0.012487\n",
            "5       A_mentions_sent    0.010983\n",
            "6       A_retweets_sent    0.006270\n"
          ],
          "name": "stdout"
        }
      ]
    },
    {
      "cell_type": "code",
      "metadata": {
        "id": "vQeepjmpPJPG",
        "colab_type": "code",
        "outputId": "cc234247-8a05-4ae4-9999-7bc4576261a9",
        "colab": {
          "base_uri": "https://localhost:8080/",
          "height": 103
        }
      },
      "source": [
        "from xgboost import XGBRegressor\n",
        "xgb = XGBRegressor(n_estimators=30)\n",
        "xgb.fit(X_train,y_train)\n",
        "y_hat = xgb.predict(X_train)\n",
        "y_pred = xgb.predict(X_dev)\n",
        "print('AUC Score from Train set: ')\n",
        "scoring(y_train, y_hat)\n",
        "print('AUC Score from Dev set: ')\n",
        "scoring(y_dev,y_pred)"
      ],
      "execution_count": 0,
      "outputs": [
        {
          "output_type": "stream",
          "text": [
            "[18:42:33] WARNING: /workspace/src/objective/regression_obj.cu:152: reg:linear is now deprecated in favor of reg:squarederror.\n",
            "AUC Score from Train set: \n",
            "AUC:  0.888\n",
            "AUC Score from Dev set: \n",
            "AUC:  0.863\n"
          ],
          "name": "stdout"
        }
      ]
    },
    {
      "cell_type": "markdown",
      "metadata": {
        "id": "kE9pvIkuO0cv",
        "colab_type": "text"
      },
      "source": [
        "# Feature Selection/Engineering\n",
        "* We have seen that the features are symmetric attibutes of A and B. It is worth exploring whether a ratio or a difference between these attributes would improve the fit. \n",
        "* Also, we have seen taht some original features have high correlations. Dropping the redundant features may help boost our performance. "
      ]
    },
    {
      "cell_type": "code",
      "metadata": {
        "id": "E9I3BLrRN6Qv",
        "colab_type": "code",
        "colab": {}
      },
      "source": [
        "# First, what really matters in a binary preference learning task is perhaps the ratio or the difference of each person's attributes.\n",
        "# So, let's try creating new feature with the ratio. \n",
        "# This probably changes the performance of the LinearRegression model the most since we generate new features with non-linear operation. \n",
        "def ratio(X):\n",
        "  # Create ratio of the 5 most important attributes (from random forest).t.\n",
        "  X_ratio = X.copy()\n",
        "  # To avoid deviding by zero\n",
        "  ep = 0.0001\n",
        "  imp = ['ratio_follows', 'ratio_follower_count', 'ratio_following_count', 'ratio_network_feature_1', 'ratio_listed_count','ratio_mentions_received']\n",
        "  \n",
        "  #Not good 'ratio_network_feature_3' \n",
        "  X_ratio['ratio_follower_count'] = X['A_follower_count']/(X['B_follower_count']+ep)\n",
        "  X_ratio['ratio_following_count'] = X['A_following_count']/(X['B_following_count']+ep)\n",
        "  X_ratio['ratio_follows'] = X_ratio['ratio_follower_count']/(X_ratio['ratio_following_count']+ep)\n",
        "\n",
        "  X_ratio['ratio_network_feature_1'] = X['A_network_feature_1']/(X['B_network_feature_1']+ep)\n",
        "  X_ratio['ratio_listed_count'] = X['A_listed_count']/(X['B_listed_count']+ep)\n",
        "  X_ratio['ratio_mentions_received'] = X['A_mentions_received']/(X['B_mentions_received']+ep)\n",
        "  #X_ratio['ratio_network_feature_3'] = X['A_network_feature_3']/(X['B_network_feature_3']+ep)\n",
        "  X_ratio = X_ratio[imp]\n",
        "  # Kill the redundant column\n",
        "  X_ratio.drop('ratio_following_count',axis=1, inplace=True)\n",
        "  return X_ratio"
      ],
      "execution_count": 0,
      "outputs": []
    },
    {
      "cell_type": "code",
      "metadata": {
        "id": "p2vk7tGXlOv0",
        "colab_type": "code",
        "outputId": "e74b3b9e-23b2-4f01-a882-97f4e3a5ec9c",
        "colab": {
          "base_uri": "https://localhost:8080/",
          "height": 300
        }
      },
      "source": [
        "# Make sure the new features look ready to be fit. (No NaNs, No Inf, etc.)\n",
        "X_ratio = ratio(X_train)\n",
        "X_ratio.describe()"
      ],
      "execution_count": 0,
      "outputs": [
        {
          "output_type": "execute_result",
          "data": {
            "text/html": [
              "<div>\n",
              "<style scoped>\n",
              "    .dataframe tbody tr th:only-of-type {\n",
              "        vertical-align: middle;\n",
              "    }\n",
              "\n",
              "    .dataframe tbody tr th {\n",
              "        vertical-align: top;\n",
              "    }\n",
              "\n",
              "    .dataframe thead th {\n",
              "        text-align: right;\n",
              "    }\n",
              "</style>\n",
              "<table border=\"1\" class=\"dataframe\">\n",
              "  <thead>\n",
              "    <tr style=\"text-align: right;\">\n",
              "      <th></th>\n",
              "      <th>ratio_follows</th>\n",
              "      <th>ratio_follower_count</th>\n",
              "      <th>ratio_network_feature_1</th>\n",
              "      <th>ratio_listed_count</th>\n",
              "      <th>ratio_mentions_received</th>\n",
              "    </tr>\n",
              "  </thead>\n",
              "  <tbody>\n",
              "    <tr>\n",
              "      <th>count</th>\n",
              "      <td>4.400000e+03</td>\n",
              "      <td>4400.000000</td>\n",
              "      <td>4.400000e+03</td>\n",
              "      <td>4.400000e+03</td>\n",
              "      <td>4.400000e+03</td>\n",
              "    </tr>\n",
              "    <tr>\n",
              "      <th>mean</th>\n",
              "      <td>5.806205e+03</td>\n",
              "      <td>582.955057</td>\n",
              "      <td>2.127492e+06</td>\n",
              "      <td>2.620560e+05</td>\n",
              "      <td>1.595235e+03</td>\n",
              "    </tr>\n",
              "    <tr>\n",
              "      <th>std</th>\n",
              "      <td>2.174348e+05</td>\n",
              "      <td>9849.756598</td>\n",
              "      <td>4.962331e+07</td>\n",
              "      <td>6.486918e+06</td>\n",
              "      <td>2.994494e+04</td>\n",
              "    </tr>\n",
              "    <tr>\n",
              "      <th>min</th>\n",
              "      <td>4.452669e-10</td>\n",
              "      <td>0.000004</td>\n",
              "      <td>0.000000e+00</td>\n",
              "      <td>0.000000e+00</td>\n",
              "      <td>1.528373e-06</td>\n",
              "    </tr>\n",
              "    <tr>\n",
              "      <th>25%</th>\n",
              "      <td>5.621414e-02</td>\n",
              "      <td>0.065102</td>\n",
              "      <td>4.852318e-02</td>\n",
              "      <td>8.204292e-02</td>\n",
              "      <td>5.448368e-02</td>\n",
              "    </tr>\n",
              "    <tr>\n",
              "      <th>50%</th>\n",
              "      <td>9.458713e-01</td>\n",
              "      <td>0.997998</td>\n",
              "      <td>9.999000e-01</td>\n",
              "      <td>1.067873e+00</td>\n",
              "      <td>9.532725e-01</td>\n",
              "    </tr>\n",
              "    <tr>\n",
              "      <th>75%</th>\n",
              "      <td>1.586100e+01</td>\n",
              "      <td>16.474250</td>\n",
              "      <td>2.117645e+01</td>\n",
              "      <td>1.253950e+01</td>\n",
              "      <td>1.924684e+01</td>\n",
              "    </tr>\n",
              "    <tr>\n",
              "      <th>max</th>\n",
              "      <td>1.399967e+07</td>\n",
              "      <td>477138.614307</td>\n",
              "      <td>2.137180e+09</td>\n",
              "      <td>3.062200e+08</td>\n",
              "      <td>1.725949e+06</td>\n",
              "    </tr>\n",
              "  </tbody>\n",
              "</table>\n",
              "</div>"
            ],
            "text/plain": [
              "       ratio_follows  ...  ratio_mentions_received\n",
              "count   4.400000e+03  ...             4.400000e+03\n",
              "mean    5.806205e+03  ...             1.595235e+03\n",
              "std     2.174348e+05  ...             2.994494e+04\n",
              "min     4.452669e-10  ...             1.528373e-06\n",
              "25%     5.621414e-02  ...             5.448368e-02\n",
              "50%     9.458713e-01  ...             9.532725e-01\n",
              "75%     1.586100e+01  ...             1.924684e+01\n",
              "max     1.399967e+07  ...             1.725949e+06\n",
              "\n",
              "[8 rows x 5 columns]"
            ]
          },
          "metadata": {
            "tags": []
          },
          "execution_count": 318
        }
      ]
    },
    {
      "cell_type": "code",
      "metadata": {
        "id": "BsaN1u5_qKcH",
        "colab_type": "code",
        "outputId": "c111dd67-ff29-465f-ab4a-d8966914dacf",
        "colab": {
          "base_uri": "https://localhost:8080/",
          "height": 86
        }
      },
      "source": [
        "# Try ratio-features with 4 top important - Improving performance in lr!\n",
        "lr.fit(X_ratio,y_train)\n",
        "y_pred = lr.predict(ratio(X_dev))\n",
        "y_hat = lr.predict(X_ratio)\n",
        "\n",
        "print('AUC Score from Train set: ')\n",
        "scoring(y_train, y_hat)\n",
        "print('AUC Score from Dev set: ')\n",
        "scoring(y_dev,y_pred)"
      ],
      "execution_count": 0,
      "outputs": [
        {
          "output_type": "stream",
          "text": [
            "AUC Score from Train set: \n",
            "AUC:  0.84\n",
            "AUC Score from Dev set: \n",
            "AUC:  0.849\n"
          ],
          "name": "stdout"
        }
      ]
    },
    {
      "cell_type": "markdown",
      "metadata": {
        "id": "hXMExh8J6gJa",
        "colab_type": "text"
      },
      "source": [
        "The improvement of the lr model from 78% to 84% shows promises in feature engineering with ratio. "
      ]
    },
    {
      "cell_type": "code",
      "metadata": {
        "id": "Vo37gN-d85Iz",
        "colab_type": "code",
        "colab": {}
      },
      "source": [
        "def ratio_rf(X):\n",
        "  # Create ratio of the 4 most important attributes (from random forest). This helps improve lr's performance by 5%, but does look overfit.\n",
        "  X_ratio = X.copy()\n",
        "  # To avoid deviding by zero\n",
        "  ep = 0.0001\n",
        "  imp = ['ratio_follower_count', 'ratio_following_count', 'ratio_network_feature_1', 'ratio_listed_count']\n",
        "         #'ratio_mentions_received']\n",
        "  \n",
        "  #Not good 'ratio_network_feature_3' \n",
        "  X_ratio['ratio_follower_count'] = X['A_follower_count']/(X['B_follower_count']+ep)\n",
        "  X_ratio['ratio_following_count'] = X['A_following_count']/(X['B_following_count']+ep)\n",
        "  #X_ratio['ratio_follows'] = X_ratio['ratio_follower_count']/(X_ratio['ratio_following_count']+ep)\n",
        "  \n",
        "  X_ratio['ratio_network_feature_1'] = X['A_network_feature_1']/(X['B_network_feature_1']+ep)\n",
        "  X_ratio['ratio_listed_count'] = X['A_listed_count']/(X['B_listed_count']+ep)\n",
        "  #X_ratio['ratio_mentions_received'] = X['A_mentions_received']/(X['B_mentions_received']+ep)\n",
        "  #X_ratio['ratio_network_feature_3'] = X['A_network_feature_3']/(X['B_network_feature_3']+ep)\n",
        "  X_ratio = X_ratio[imp]\n",
        "  \n",
        "  return X_ratio"
      ],
      "execution_count": 0,
      "outputs": []
    },
    {
      "cell_type": "code",
      "metadata": {
        "id": "gcQ7WLaYwIQq",
        "colab_type": "code",
        "outputId": "ee56846a-c2cb-4f20-b401-d969257622bf",
        "colab": {
          "base_uri": "https://localhost:8080/",
          "height": 103
        }
      },
      "source": [
        "# Try diff-features with 4 top important - Not nice, of course, it's linear. It would have done the same, but it tells us the top 4 is enough. \n",
        "from sklearn.model_selection import GridSearchCV\n",
        "\n",
        "param_grid = {\n",
        "    'n_estimators': [10,20,50],\n",
        "    'max_depth': [3,5,7],\n",
        "    'max_features': [2,3]\n",
        "}\n",
        "model = RandomForestRegressor()\n",
        "grid = GridSearchCV(estimator=model, param_grid=param_grid, cv=5, n_jobs=-1)\n",
        "grid.fit(ratio_rf(X_train),y_train)\n",
        "y_pred = grid.predict(ratio_rf(X_dev))\n",
        "y_hat = grid.predict(ratio_rf(X_train))\n",
        "\n",
        "print('AUC Score from Train set: ')\n",
        "scoring(y_train, y_hat)\n",
        "print('AUC Score from Dev set: ')\n",
        "scoring(y_dev,y_pred)\n",
        "print(grid.best_params_)\n"
      ],
      "execution_count": 0,
      "outputs": [
        {
          "output_type": "stream",
          "text": [
            "AUC Score from Train set: \n",
            "AUC:  0.879\n",
            "AUC Score from Dev set: \n",
            "AUC:  0.861\n",
            "{'max_depth': 5, 'max_features': 2, 'n_estimators': 50}\n"
          ],
          "name": "stdout"
        }
      ]
    },
    {
      "cell_type": "code",
      "metadata": {
        "id": "7Z2zobtGtG0H",
        "colab_type": "code",
        "outputId": "1bd59300-2847-473b-d804-613f110f889b",
        "colab": {
          "base_uri": "https://localhost:8080/",
          "height": 103
        }
      },
      "source": [
        "xgb.fit(ratio_rf(X_train),y_train)\n",
        "y_pred = xgb.predict(ratio_rf(X_dev))\n",
        "y_hat = xgb.predict(ratio_rf(X_train))\n",
        "\n",
        "print('AUC Score from Train set: ')\n",
        "scoring(y_train, y_hat)\n",
        "print('AUC Score from Dev set: ')\n",
        "scoring(y_dev,y_pred)"
      ],
      "execution_count": 0,
      "outputs": [
        {
          "output_type": "stream",
          "text": [
            "[19:44:35] WARNING: /workspace/src/objective/regression_obj.cu:152: reg:linear is now deprecated in favor of reg:squarederror.\n",
            "AUC Score from Train set: \n",
            "AUC:  0.874\n",
            "AUC Score from Dev set: \n",
            "AUC:  0.862\n"
          ],
          "name": "stdout"
        }
      ]
    },
    {
      "cell_type": "markdown",
      "metadata": {
        "id": "S50GQ99KQAm1",
        "colab_type": "text"
      },
      "source": [
        "# Hyperparameter Tuning\n",
        "* GridSearchCV/ RandomSearchCV\n",
        "* Do this after we selected the best features. "
      ]
    },
    {
      "cell_type": "code",
      "metadata": {
        "id": "mEul5143yu-X",
        "colab_type": "code",
        "outputId": "d41a3067-0a77-4efa-cc18-aea9e8444133",
        "colab": {
          "base_uri": "https://localhost:8080/",
          "height": 103
        }
      },
      "source": [
        "from sklearn.model_selection import GridSearchCV\n",
        "\n",
        "param_grid = {\n",
        "    'n_estimators': [10,20,50],\n",
        "    'max_depth': [3,5,7,11],\n",
        "    'max_features': [2,3,5,11]\n",
        "}\n",
        "model = RandomForestRegressor()\n",
        "grid = GridSearchCV(estimator=model, param_grid=param_grid, cv=5, n_jobs=-1)\n",
        "grid.fit(X_train,y_train)\n",
        "y_pred = grid.predict(X_dev)\n",
        "y_hat = grid.predict(X_train)\n",
        "\n",
        "print('AUC Score from Train set: ')\n",
        "scoring(y_train, y_hat)\n",
        "print('AUC Score from Dev set: ')\n",
        "scoring(y_dev,y_pred)\n",
        "print(grid.best_params_)"
      ],
      "execution_count": 0,
      "outputs": [
        {
          "output_type": "stream",
          "text": [
            "AUC Score from Train set: \n",
            "AUC:  0.93\n",
            "AUC Score from Dev set: \n",
            "AUC:  0.87\n",
            "{'max_depth': 7, 'max_features': 5, 'n_estimators': 50}\n"
          ],
          "name": "stdout"
        }
      ]
    },
    {
      "cell_type": "markdown",
      "metadata": {
        "id": "mXBjZ7-VWpWY",
        "colab_type": "text"
      },
      "source": [
        "# Submission \n",
        "* (for benchmarking against Kaggle scoreboard)"
      ]
    },
    {
      "cell_type": "code",
      "metadata": {
        "id": "_4nQjpqhaPiT",
        "colab_type": "code",
        "colab": {}
      },
      "source": [
        "!mkdir -p ~/.kaggle\n",
        "!cp kaggle.json ~/.kaggle/\n",
        "!pip install kaggle\n",
        "!chmod 600 /root/.kaggle/kaggle.json"
      ],
      "execution_count": 0,
      "outputs": []
    },
    {
      "cell_type": "code",
      "metadata": {
        "id": "3QjBz1j4XR4r",
        "colab_type": "code",
        "colab": {}
      },
      "source": [
        "# Select y_pred from the best model\n",
        "best_model = rf\n",
        "y_pred = best_model.predict(test)\n",
        "# For crappy model without boundary\n",
        "y_pred = y_pred*(y_pred>0)"
      ],
      "execution_count": 0,
      "outputs": []
    },
    {
      "cell_type": "code",
      "metadata": {
        "id": "Eaho7aozW8Mp",
        "colab_type": "code",
        "outputId": "8d8c4247-a147-4298-a827-55ef148af512",
        "colab": {
          "base_uri": "https://localhost:8080/",
          "height": 277
        }
      },
      "source": [
        "tosubmit = pd.DataFrame({})\n",
        "tosubmit['Id'] = test.index+1\n",
        "tosubmit['Choice'] = y_pred\n",
        "print(tosubmit.head())\n",
        "print(tosubmit.describe())"
      ],
      "execution_count": 0,
      "outputs": [
        {
          "output_type": "stream",
          "text": [
            "   Id    Choice\n",
            "0   1  0.315959\n",
            "1   2  0.654496\n",
            "2   3  0.036812\n",
            "3   4  0.274834\n",
            "4   5  0.551087\n",
            "                Id       Choice\n",
            "count  5952.000000  5952.000000\n",
            "mean   2976.500000     0.510391\n",
            "std    1718.338733     0.304598\n",
            "min       1.000000     0.009170\n",
            "25%    1488.750000     0.260426\n",
            "50%    2976.500000     0.509370\n",
            "75%    4464.250000     0.796708\n",
            "max    5952.000000     0.984853\n"
          ],
          "name": "stdout"
        }
      ]
    },
    {
      "cell_type": "code",
      "metadata": {
        "id": "X_3e2x7_Ws0P",
        "colab_type": "code",
        "colab": {}
      },
      "source": [
        "tosubmit.to_csv('submission.csv', index=False)"
      ],
      "execution_count": 0,
      "outputs": []
    },
    {
      "cell_type": "code",
      "metadata": {
        "id": "hPynz5OzYVYw",
        "colab_type": "code",
        "outputId": "c446c8b6-b61a-4daa-c984-bac5a4b50e3e",
        "colab": {
          "base_uri": "https://localhost:8080/",
          "height": 69
        }
      },
      "source": [
        "!kaggle competitions submit -c predict-who-is-more-influential-in-a-social-network -f submission.csv -m \"Message\""
      ],
      "execution_count": 0,
      "outputs": [
        {
          "output_type": "stream",
          "text": [
            "Warning: Looks like you're using an outdated API Version, please consider updating (server 1.5.6 / client 1.5.4)\n",
            "100% 140k/140k [00:01<00:00, 74.8kB/s]\n",
            "Successfully submitted to Influencers in Social Networks"
          ],
          "name": "stdout"
        }
      ]
    },
    {
      "cell_type": "code",
      "metadata": {
        "id": "lOm0k7oOeEzo",
        "colab_type": "code",
        "colab": {}
      },
      "source": [
        ""
      ],
      "execution_count": 0,
      "outputs": []
    }
  ]
}